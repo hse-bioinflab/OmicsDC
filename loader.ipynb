{
 "cells": [
  {
   "attachments": {},
   "cell_type": "markdown",
   "metadata": {},
   "source": [
    "# Omics data\n"
   ]
  },
  {
   "attachments": {},
   "cell_type": "markdown",
   "metadata": {},
   "source": [
    "## omics Function\n",
    "\n",
    "Function for processing omics data.\n",
    "\n",
    "### Arguments\n",
    "\n",
    "- `expid` (list): List of experiment IDs.\n",
    "- `assembly` (list): List of genome assemblies.\n",
    "- `assembly_threshold` (str): Assembly threshold.\n",
    "- `antigen_class` (list): List of antigen classes.\n",
    "- `antigen` (list): List of antigens.\n",
    "- `cell_type` (list): List of cell type classes.\n",
    "- `cell` (list): List of cell types.\n",
    "- `output_path` (Path): Output path for the processed files.\n",
    "\n",
    "### Returns\n",
    "\n",
    "- `Path`: Path to the processed files.\n",
    "\n",
    "### Usage\n",
    "\n",
    "```python\n",
    "result = omics(expid=None, assembly=['hg38'], assembly_threshold='05', antigen_class=None,antigen=None, cell_type=None, cell=None, output_path=Path(\"./storage/\"))\n"
   ]
  },
  {
   "cell_type": "code",
   "execution_count": 2,
   "metadata": {},
   "outputs": [
    {
     "name": "stdout",
     "output_type": "stream",
     "text": [
      "File check of mm9 complete\n",
      "Copying 1  files\n",
      "Process done\n"
     ]
    }
   ],
   "source": [
    "import loader\n",
    "\n",
    "Example = {\n",
    "    \"expid\"     :   [\"DRX001045\"],\n",
    "    \"assembly\"  :   [\"mm9\"],\n",
    "    \"Q-value\"   :   \"50\",\n",
    "    \"a.g_class\" :   [\"Histone\"],\n",
    "    \"antigen\"   :   [\"H3.3\"],\n",
    "    \"cell_type\" :   [\"Muscle\"],\n",
    "    \"cell\"      :   [\"C2C12\"],\n",
    "    \"output\"    :   Path(\"./storage/\")\n",
    "}\n",
    "\n",
    "loader.omics(\n",
    "    expid               = Example[\"expid\"],\n",
    "    assembly            = Example[\"assembly\"],\n",
    "    assembly_threshold  = Example[\"Q-value\"],\n",
    "    antigen_class       = Example[\"a.g_class\"],\n",
    "    antigen             = Example[\"antigen\"],\n",
    "    cell_type           = Example[\"cell_type\"],\n",
    "    cell                = Example[\"cell\"],\n",
    "    output_path         = Example[\"output\"]\n",
    "    )"
   ]
  },
  {
   "cell_type": "code",
   "execution_count": 1,
   "metadata": {},
   "outputs": [
    {
     "ename": "NameError",
     "evalue": "name 'Example' is not defined",
     "output_type": "error",
     "traceback": [
      "\u001b[1;31m---------------------------------------------------------------------------\u001b[0m",
      "\u001b[1;31mNameError\u001b[0m                                 Traceback (most recent call last)",
      "\u001b[1;32mm:\\Fast_Work\\data-loader\\loader.ipynb Ячейка 4\u001b[0m in \u001b[0;36m5\n\u001b[0;32m      <a href='vscode-notebook-cell:/m%3A/Fast_Work/data-loader/loader.ipynb#W4sZmlsZQ%3D%3D?line=1'>2</a>\u001b[0m \u001b[39mfrom\u001b[39;00m \u001b[39mloader\u001b[39;00m\u001b[39m.\u001b[39;00m\u001b[39mresources\u001b[39;00m \u001b[39mimport\u001b[39;00m ExperimentList\n\u001b[0;32m      <a href='vscode-notebook-cell:/m%3A/Fast_Work/data-loader/loader.ipynb#W4sZmlsZQ%3D%3D?line=2'>3</a>\u001b[0m \u001b[39mfrom\u001b[39;00m \u001b[39mloader\u001b[39;00m \u001b[39mimport\u001b[39;00m Matching_Experiments_Options\n\u001b[0;32m      <a href='vscode-notebook-cell:/m%3A/Fast_Work/data-loader/loader.ipynb#W4sZmlsZQ%3D%3D?line=3'>4</a>\u001b[0m options \u001b[39m=\u001b[39m {\n\u001b[1;32m----> <a href='vscode-notebook-cell:/m%3A/Fast_Work/data-loader/loader.ipynb#W4sZmlsZQ%3D%3D?line=4'>5</a>\u001b[0m         \u001b[39m\"\u001b[39m\u001b[39mid\u001b[39m\u001b[39m\"\u001b[39m                :   Example[\u001b[39m\"\u001b[39m\u001b[39mexpid\u001b[39m\u001b[39m\"\u001b[39m],\n\u001b[0;32m      <a href='vscode-notebook-cell:/m%3A/Fast_Work/data-loader/loader.ipynb#W4sZmlsZQ%3D%3D?line=5'>6</a>\u001b[0m         \u001b[39m\"\u001b[39m\u001b[39mGenome assembly\u001b[39m\u001b[39m\"\u001b[39m   :   assembly,\n\u001b[0;32m      <a href='vscode-notebook-cell:/m%3A/Fast_Work/data-loader/loader.ipynb#W4sZmlsZQ%3D%3D?line=6'>7</a>\u001b[0m         \u001b[39m\"\u001b[39m\u001b[39mAntigen class\u001b[39m\u001b[39m\"\u001b[39m     :   antigen_class,\n\u001b[0;32m      <a href='vscode-notebook-cell:/m%3A/Fast_Work/data-loader/loader.ipynb#W4sZmlsZQ%3D%3D?line=7'>8</a>\u001b[0m         \u001b[39m\"\u001b[39m\u001b[39mAntigen\u001b[39m\u001b[39m\"\u001b[39m           :   antigen,\n\u001b[0;32m      <a href='vscode-notebook-cell:/m%3A/Fast_Work/data-loader/loader.ipynb#W4sZmlsZQ%3D%3D?line=8'>9</a>\u001b[0m         \u001b[39m\"\u001b[39m\u001b[39mCell type class\u001b[39m\u001b[39m\"\u001b[39m   :   cell_type,\n\u001b[0;32m     <a href='vscode-notebook-cell:/m%3A/Fast_Work/data-loader/loader.ipynb#W4sZmlsZQ%3D%3D?line=9'>10</a>\u001b[0m         \u001b[39m\"\u001b[39m\u001b[39mCell type\u001b[39m\u001b[39m\"\u001b[39m         :   cell\n\u001b[0;32m     <a href='vscode-notebook-cell:/m%3A/Fast_Work/data-loader/loader.ipynb#W4sZmlsZQ%3D%3D?line=10'>11</a>\u001b[0m     }\n\u001b[0;32m     <a href='vscode-notebook-cell:/m%3A/Fast_Work/data-loader/loader.ipynb#W4sZmlsZQ%3D%3D?line=12'>13</a>\u001b[0m Matching_Experiments_DF(ExperimentList, )\n",
      "\u001b[1;31mNameError\u001b[0m: name 'Example' is not defined"
     ]
    }
   ],
   "source": [
    "from loader import Matching_Experiments_DF\n",
    "from loader.resources import ExperimentList\n",
    "from loader import Matching_Experiments_Options\n",
    "\n",
    "Matching_Experiments_Options[\"Antigen class\"] = Example[\"a.g_class\"]\n",
    "\n",
    "Matching_Experiments = Matching_Experiments_DF(ExperimentList, Matching_Experiments_Options)"
   ]
  },
  {
   "cell_type": "code",
   "execution_count": 2,
   "metadata": {},
   "outputs": [
    {
     "data": {
      "text/plain": [
       "{'id': None,\n",
       " 'Genome assembly': None,\n",
       " 'Antigen class': None,\n",
       " 'Antigen': None,\n",
       " 'Cell type class': None,\n",
       " 'Cell type': None}"
      ]
     },
     "execution_count": 2,
     "metadata": {},
     "output_type": "execute_result"
    }
   ],
   "source": [
    "list(Matching_Experiments['Antigen'].unique())\n",
    "\n",
    "for i in list(Matching_Experiments['Antigen'].unique()):\n",
    "    subprocess.Popen(f\"cat exps/hg38/*_{i}_* > omics/{i}.bed\", shell=True)"
   ]
  }
 ],
 "metadata": {
  "kernelspec": {
   "display_name": "Python 3 (ipykernel)",
   "language": "python",
   "name": "python3"
  },
  "language_info": {
   "codemirror_mode": {
    "name": "ipython",
    "version": 3
   },
   "file_extension": ".py",
   "mimetype": "text/x-python",
   "name": "python",
   "nbconvert_exporter": "python",
   "pygments_lexer": "ipython3",
   "version": "3.10.6"
  }
 },
 "nbformat": 4,
 "nbformat_minor": 1
}
