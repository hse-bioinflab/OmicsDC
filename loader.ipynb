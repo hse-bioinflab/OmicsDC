{
 "cells": [
  {
   "cell_type": "code",
   "execution_count": 1,
   "metadata": {},
   "outputs": [],
   "source": [
    "from pathlib import Path\n",
    "import loader\n",
    "\n",
    "STORAGE = Path(\"storage\")\n",
    "\n",
    "# Docs should be in this notebook. Explain data sources, parameters meaning, etc\n",
    "# Provide example!"
   ]
  },
  {
   "attachments": {},
   "cell_type": "markdown",
   "metadata": {},
   "source": [
    "# Omics data\n"
   ]
  },
  {
   "attachments": {},
   "cell_type": "markdown",
   "metadata": {},
   "source": [
    "## omics Function\n",
    "\n",
    "Function for processing omics data.\n",
    "\n",
    "### Arguments\n",
    "\n",
    "- `expid` (list): List of experiment IDs.\n",
    "- `assembly` (list): List of genome assemblies.\n",
    "- `assembly_threshold` (str): Assembly threshold.\n",
    "- `antigen_class` (list): List of antigen classes.\n",
    "- `antigen` (list): List of antigens.\n",
    "- `cell_type` (list): List of cell type classes.\n",
    "- `cell` (list): List of cell types.\n",
    "- `output_path` (Path): Output path for the processed files.\n",
    "\n",
    "### Returns\n",
    "\n",
    "- `Path`: Path to the processed files.\n",
    "\n",
    "### Usage\n",
    "\n",
    "```python\n",
    "result = omics(expid=None, assembly=['hg38'], assembly_threshold='05', antigen_class=None,antigen=None, cell_type=None, cell=None, output_path=Path(\"./storage/\"))\n"
   ]
  },
  {
   "cell_type": "code",
   "execution_count": 2,
   "metadata": {},
   "outputs": [
    {
     "name": "stdout",
     "output_type": "stream",
     "text": [
      "File check of mm9 complete\n",
      "Copying 1  files\n",
      "Process done\n"
     ]
    }
   ],
   "source": [
    "import loader\n",
    "\n",
    "Example = {\n",
    "    \"expid\"     :   [\"DRX001045\"],\n",
    "    \"assembly\"  :   [\"mm9\"],\n",
    "    \"Q-value\"   :   \"50\",\n",
    "    \"a.g_class\" :   [\"Histone\"],\n",
    "    \"antigen\"   :   [\"H3.3\"],\n",
    "    \"cell_type\" :   [\"Muscle\"],\n",
    "    \"cell\"      :   [\"C2C12\"],\n",
    "    \"output\"    :   Path(\"./storage/\")\n",
    "}\n",
    "\n",
    "loader.omics(\n",
    "    expid               = Example[\"expid\"],\n",
    "    assembly            = Example[\"assembly\"],\n",
    "    assembly_threshold  = Example[\"Q-value\"],\n",
    "    antigen_class       = Example[\"a.g_class\"],\n",
    "    antigen             = Example[\"antigen\"],\n",
    "    cell_type           = Example[\"cell_type\"],\n",
    "    cell                = Example[\"cell\"],\n",
    "    output_path         = Example[\"output\"]\n",
    "    )"
   ]
  }
 ],
 "metadata": {
  "kernelspec": {
   "display_name": "Python 3 (ipykernel)",
   "language": "python",
   "name": "python3"
  },
  "language_info": {
   "codemirror_mode": {
    "name": "ipython",
    "version": 3
   },
   "file_extension": ".py",
   "mimetype": "text/x-python",
   "name": "python",
   "nbconvert_exporter": "python",
   "pygments_lexer": "ipython3",
   "version": "3.11.3"
  }
 },
 "nbformat": 4,
 "nbformat_minor": 1
}
