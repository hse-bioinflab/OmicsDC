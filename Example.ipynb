{
 "cells": [
  {
   "cell_type": "markdown",
   "metadata": {},
   "source": [
    "# Omics data\n"
   ]
  },
  {
   "cell_type": "markdown",
   "metadata": {},
   "source": [
    "## omics Function\n",
    "\n",
    "Function for processing omics data.\n",
    "\n",
    "### Arguments\n",
    "\n",
    "- `expid` (list): List of experiment IDs.\n",
    "- `assembly` (list): List of genome assemblies.\n",
    "- `assembly_threshold` (str): Assembly threshold.\n",
    "- `antigen_class` (list): List of antigen classes.\n",
    "- `antigen` (list): List of antigens.\n",
    "- `cell_type` (list): List of cell type classes.\n",
    "- `cell` (list): List of cell types.\n",
    "- `output_path` (Path): Output path for the processed files.\n",
    "\n",
    "### Returns\n",
    "\n",
    "- `Path`: Path to the processed files.\n",
    "\n",
    "### Usage\n",
    "\n",
    "```python\n",
    "result = OmicsDataCreate(expid=None, assembly=['hg38'], assembly_threshold='05', antigen_class=None,antigen=None, cell_type=None, cell=None, output_path=Path(\"./storage/\"))\n"
   ]
  },
  {
   "cell_type": "code",
   "execution_count": 1,
   "metadata": {
    "tags": []
   },
   "outputs": [],
   "source": [
    "from OmicsDC import OmicsDataCreate\n"
   ]
  },
  {
   "cell_type": "code",
   "execution_count": 2,
   "metadata": {
    "tags": []
   },
   "outputs": [
    {
     "name": "stdout",
     "output_type": "stream",
     "text": [
      "File check of mm9 complete\n",
      "Done. Created file ./storage/2023-12-12_04_38_33.tar.gz \n"
     ]
    }
   ],
   "source": [
    "from pathlib import Path\n",
    "\n",
    "Example = {\n",
    "    \"expid\"     :   [\"DRX001045\"],\n",
    "    \"assembly\"  :   [\"mm9\"],\n",
    "    \"Q-value\"   :   \"50\",\n",
    "    \"a.g_class\" :   [\"Histone\"],\n",
    "    \"antigen\"   :   [\"H3.3\"],\n",
    "    \"cell_type\" :   [\"Muscle\"],\n",
    "    \"cell\"      :   [\"C2C12\"],\n",
    "    \"output\"    :   Path(\"./storage/\")\n",
    "}\n",
    "\n",
    "result = OmicsDataCreate(\n",
    "    expid               = Example[\"expid\"],\n",
    "    assembly            = Example[\"assembly\"],\n",
    "    assembly_threshold  = Example[\"Q-value\"],\n",
    "    antigen_class       = Example[\"a.g_class\"],\n",
    "    antigen             = Example[\"antigen\"],\n",
    "    cell_type           = Example[\"cell_type\"],\n",
    "    cell                = Example[\"cell\"],\n",
    "    output_path         = Example[\"output\"]\n",
    "    )"
   ]
  },
  {
   "cell_type": "code",
   "execution_count": 6,
   "metadata": {
    "tags": []
   },
   "outputs": [
    {
     "name": "stdout",
     "output_type": "stream",
     "text": [
      "mm9/DRX001045_mm9_Histone_H3.3_Muscle_C2C12.bed\n",
      "mm9/DRX001047_mm9_Histone_H3.3_Muscle_C2C12.bed\n",
      "mm9/DRX001061_mm9_Histone_H3.3_Muscle_C2C12.bed\n",
      "mm9/DRX001063_mm9_Histone_H3.3_Muscle_C2C12.bed\n",
      "mm9/DRX020493_mm9_Histone_H3.3_Muscle_C2C12.bed\n",
      "mm9/DRX020502_mm9_Histone_H3.3_Muscle_C2C12.bed\n",
      "mm9/DRX021083_mm9_Histone_H3.3_Muscle_C2C12.bed\n",
      "mm9/DRX021084_mm9_Histone_H3.3_Muscle_C2C12.bed\n",
      "mm9/SRX9460293_mm9_Histone_H3.3_Muscle_C2C12.bed\n",
      "mm9/SRX9460298_mm9_Histone_H3.3_Muscle_C2C12.bed\n"
     ]
    }
   ],
   "source": [
    "!tar -xvzf <insert here created file> -C ./storage"
   ]
  },
  {
   "cell_type": "markdown",
   "metadata": {},
   "source": [
    "## Example: Concatenate Files by Antigen for Omics Data\n",
    "\n",
    "This algorithm performs the following steps:\n",
    "\n",
    "1. User ungz `result` file from `OmicsDC.OmicsDataCreate()`.\n",
    "\n",
    "2. Import the following modules:\n"
   ]
  },
  {
   "cell_type": "code",
   "execution_count": 7,
   "metadata": {
    "tags": []
   },
   "outputs": [],
   "source": [
    "from OmicsDC import Matching_Experiments_DF\n",
    "from OmicsDC.resources import ExperimentList\n",
    "from OmicsDC import Matching_Experiments_Options\n",
    "import subprocess"
   ]
  },
  {
   "cell_type": "markdown",
   "metadata": {},
   "source": [
    "\n",
    "\n",
    "3. Retrieve the experiments list using create_matching_expirement_df(ExperimentList, Matching_Experiments_Options), where Matching_Experiments_Options is a dictionary with fields that can be used by create_matching_expirement_df, and ExperimentList is the path to the ExperimentList file."
   ]
  },
  {
   "cell_type": "code",
   "execution_count": 8,
   "metadata": {
    "tags": []
   },
   "outputs": [],
   "source": [
    "Matching_Experiments_Options = {\n",
    "                'id'              : None,\n",
    "                'Genome assembly' : ['mm9'],\n",
    "                'Antigen class'   : ['Histone'],\n",
    "                'Antigen'         : [\"H3.3\"],\n",
    "                'Cell type class' : [\"Muscle\"],\n",
    "                'Cell type'       : [\"C2C12\"]\n",
    "                }\n",
    "\n",
    "Matching_Experiments = Matching_Experiments_DF(ExperimentList, Matching_Experiments_Options)"
   ]
  },
  {
   "cell_type": "markdown",
   "metadata": {},
   "source": [
    "\n",
    "\n",
    "4. Concatenate the needed files using the cat command. Iterate over the unique values of Matching_Experiments['Antigen'] and execute the following command for each value:"
   ]
  },
  {
   "cell_type": "code",
   "execution_count": 9,
   "metadata": {
    "tags": []
   },
   "outputs": [],
   "source": [
    "for i in list(Matching_Experiments['Antigen'].unique()):\n",
    "    subprocess.Popen(f\"cat ./storage/mm9/*_{i}_* > ./storage/{i}.bed\", shell=True)"
   ]
  },
  {
   "cell_type": "markdown",
   "metadata": {},
   "source": [
    "This command concatenates all the files matching the pattern exps/hg38/*_{i}_* and redirects the output to a file named {i}.bed in the omics directory.\n",
    "\n",
    "\n",
    "The algorithm performs file concatenation based on the unique values of the 'Antigen' field from the matching experiments. Each concatenated file is saved as {i}.bed in the omics directory."
   ]
  },
  {
   "cell_type": "code",
   "execution_count": 10,
   "metadata": {
    "tags": []
   },
   "outputs": [],
   "source": [
    "!chmod -R a+rw ."
   ]
  },
  {
   "cell_type": "code",
   "execution_count": null,
   "metadata": {},
   "outputs": [],
   "source": []
  }
 ],
 "metadata": {
  "kernelspec": {
   "display_name": "Python 3 (ipykernel)",
   "language": "python",
   "name": "python3"
  },
  "language_info": {
   "codemirror_mode": {
    "name": "ipython",
    "version": 3
   },
   "file_extension": ".py",
   "mimetype": "text/x-python",
   "name": "python",
   "nbconvert_exporter": "python",
   "pygments_lexer": "ipython3",
   "version": "3.11.5"
  }
 },
 "nbformat": 4,
 "nbformat_minor": 4
}
