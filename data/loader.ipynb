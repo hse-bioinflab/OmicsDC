{
 "cells": [
  {
   "cell_type": "code",
   "execution_count": 1,
   "metadata": {},
   "outputs": [],
   "source": [
    "from pathlib import Path\n",
    "import loader\n",
    "\n",
    "STORAGE = Path(\"storage\")\n",
    "\n",
    "# Docs should be in this notebook. Explain data sources, parameters meaning, etc\n",
    "# Provide example!"
   ]
  },
  {
   "cell_type": "markdown",
   "metadata": {},
   "source": [
    "# Genome assembly\n",
    "\n",
    "TODO: docs"
   ]
  },
  {
   "cell_type": "code",
   "execution_count": null,
   "metadata": {},
   "outputs": [],
   "source": [
    "fasta = STORAGE.joinpath(\"assembly.fa.gz\")\n",
    "\n",
    "loader.assembly(tag=\"GRCh38\", saveto=fasta)\n",
    "\n",
    "assert fasta.exists() and fasta.with_suffix(\".fa.gz.fai\").exists(), \\\n",
    "    \"The download failed! Please, retry.\""
   ]
  },
  {
   "cell_type": "markdown",
   "metadata": {},
   "source": [
    "# Omics data\n",
    "\n",
    "TODO: docs"
   ]
  },
  {
   "cell_type": "code",
   "execution_count": 2,
   "metadata": {},
   "outputs": [
    {
     "name": "stdout",
     "output_type": "stream",
     "text": [
      "File check of mm9 complete\n",
      "Copying 1  files\n",
      "Process done\n"
     ]
    }
   ],
   "source": [
    "Example = {\n",
    "    \"expid\"     :   [\"DRX001045\"],\n",
    "    \"assembly\"  :   [\"mm9\"],\n",
    "    \"Q-value\"   :   \"50\",\n",
    "    \"a.g_class\" :   [\"Histone\"],\n",
    "    \"antigen\"   :   [\"H3.3\"],\n",
    "    \"cell_type\" :   [\"Muscle\"],\n",
    "    \"cell\"      :   [\"C2C12\"],\n",
    "    \"resources\" :   Path(\"./loader\"),\n",
    "    \"output\"    :   Path(\"./storage/\")\n",
    "}\n",
    "\n",
    "loader.omics(\n",
    "    expid               = Example[\"expid\"],\n",
    "    assembly            = Example[\"assembly\"],\n",
    "    assembly_threshold  = Example[\"Q-value\"],\n",
    "    antigen_class       = Example[\"a.g_class\"],\n",
    "    antigen             = Example[\"antigen\"],\n",
    "    cell_type           = Example[\"cell_type\"],\n",
    "    cell                = Example[\"cell\"],\n",
    "    resources           = Example[\"resources\"],\n",
    "    output_path         = Example[\"output\"]\n",
    "    )"
   ]
  },
  {
   "attachments": {},
   "cell_type": "markdown",
   "metadata": {},
   "source": [
    "BED files must be saved in the storage folder, in bed format with meaningful names\n",
    "\n",
    "- expid\n",
    "\n",
    "Ids of experiments that you need \n",
    "\n",
    "Example: SRX344646\n",
    "\n",
    "- assembly\n",
    "\n",
    "Genome assembly\n",
    "\n",
    "default: hg38\n",
    "\n",
    "Example: hg19\n",
    "\n",
    "- assembly_threshold\n",
    "\n",
    "Q-value thresholds\n",
    "\n",
    "default: 05\n",
    "\n",
    "Example: 10\n",
    "\n",
    "- antigen_class\n",
    "\n",
    "IMPORTANT: if the antigen class contains spaces, then they should not be replaced with “_”\n",
    "\n",
    "Example 1: Histone\n",
    "\n",
    "Example 2: TFs and others\n",
    "\n",
    "- antigen\n",
    "\n",
    "Example: GATA2\n",
    "\n",
    "- cell_type\n",
    "\n",
    "Example: Blood\n",
    "\n",
    "- cell\n",
    "\n",
    "Example: K-562"
   ]
  },
  {
   "cell_type": "code",
   "execution_count": null,
   "metadata": {},
   "outputs": [],
   "source": []
  }
 ],
 "metadata": {
  "kernelspec": {
   "display_name": "Python 3 (ipykernel)",
   "language": "python",
   "name": "python3"
  },
  "language_info": {
   "codemirror_mode": {
    "name": "ipython",
    "version": 3
   },
   "file_extension": ".py",
   "mimetype": "text/x-python",
   "name": "python",
   "nbconvert_exporter": "python",
   "pygments_lexer": "ipython3",
   "version": "3.11.3"
  }
 },
 "nbformat": 4,
 "nbformat_minor": 1
}
